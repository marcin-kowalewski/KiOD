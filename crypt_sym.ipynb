{
 "cells": [
  {
   "cell_type": "code",
   "execution_count": 2,
   "id": "9f7785b7",
   "metadata": {},
   "outputs": [
    {
     "name": "stdout",
     "output_type": "stream",
     "text": [
      "4807746616848964455\n"
     ]
    },
    {
     "data": {
      "text/plain": [
       "'42b88c13535e5b67'"
      ]
     },
     "execution_count": 2,
     "metadata": {},
     "output_type": "execute_result"
    }
   ],
   "source": [
    "from sage.crypto.block_cipher.des import DES\n",
    "des = DES()\n",
    "P = 0x7420656c73696353\n",
    "K = 0x7CA110454A1A6E57\n",
    "C = des.encrypt(plaintext=P, key=K); \n",
    "print (C)\n",
    "C.hex()"
   ]
  },
  {
   "cell_type": "code",
   "execution_count": 5,
   "id": "600bab00",
   "metadata": {},
   "outputs": [
    {
     "name": "stdout",
     "output_type": "stream",
     "text": [
      "8\n",
      "16\n",
      "['0x536369736c652074', '0x616a6e6120696e66']\n",
      "[2873795751551795630, 9567943432789639443]\n",
      "[6008762272303095924, 7019544332645002854]\n"
     ]
    },
    {
     "data": {
      "text/plain": [
       "'ajna infScisle t'"
      ]
     },
     "execution_count": 5,
     "metadata": {},
     "output_type": "execute_result"
    }
   ],
   "source": [
    "def plaintext2hex(plaintext):\n",
    "    w = 0\n",
    "    k = len(plaintext)\n",
    "    i = 1\n",
    "    for c in plaintext:\n",
    "        w += 256^(k-i) * ord(c)\n",
    "        i += 1\n",
    "    return hex(w)\n",
    "        \n",
    "def plaintext2hblocks(plaintext):\n",
    "    h = []\n",
    "    i = 0\n",
    "    w = 0\n",
    "    k = 0\n",
    "    for c in plaintext:\n",
    "        w += 256^(7-k) * ord(c)\n",
    "        i += 1\n",
    "        k += 1\n",
    "        if i % 8 == 0: \n",
    "            h.append(hex(w))\n",
    "            w = 0\n",
    "            k = 0\n",
    "            print(i)\n",
    "    return h\n",
    "\n",
    "def iblocks2plaintext(iblocks):\n",
    "    s = ''\n",
    "    for b in iblocks:\n",
    "        while b:\n",
    "            s = chr(b % 256) + s\n",
    "            b //= 256\n",
    "    return s\n",
    "    \n",
    "plaintext = \"Scisle tajna informacja\"\n",
    "hlist = plaintext2hblocks(plaintext)\n",
    "print(hlist)\n",
    "\n",
    "K = 0x7CA110454A1A6E57\n",
    "clist = []\n",
    "for p in hlist:\n",
    "    clist.append(des.encrypt(plaintext=int(p,16), key=K))\n",
    "\n",
    "print(clist)\n",
    "\n",
    "plist = []\n",
    "for c in clist:\n",
    "    plist.append(des.decrypt(ciphertext=c, key=K))\n",
    "    \n",
    "print(plist)\n",
    "iblocks2plaintext(plist)"
   ]
  },
  {
   "cell_type": "code",
   "execution_count": 4,
   "id": "c11752c1",
   "metadata": {},
   "outputs": [
    {
     "name": "stdout",
     "output_type": "stream",
     "text": [
      "Help on method encrypt in module sage.crypto.block_cipher.des:\n",
      "\n",
      "encrypt(plaintext, key) method of sage.crypto.block_cipher.des.DES instance\n",
      "    Return the ciphertext corresponding to ``plaintext``, using DES\n",
      "    encryption with ``key``.\n",
      "    \n",
      "    INPUT:\n",
      "    \n",
      "    - ``plaintext`` -- integer or bit list-like; the plaintext that will be\n",
      "      encrypted.\n",
      "    \n",
      "    - ``key`` -- integer or bit list-like; the key\n",
      "    \n",
      "    OUTPUT:\n",
      "    \n",
      "    - The ciphertext corresponding to ``plaintext``, obtained using\n",
      "      ``key``. If ``plaintext`` is an integer the output will be too. If\n",
      "      ``plaintext`` is list-like the output will be a bit vector.\n",
      "    \n",
      "    EXAMPLES:\n",
      "    \n",
      "    Encrypt a message::\n",
      "    \n",
      "        sage: from sage.crypto.block_cipher.des import DES\n",
      "        sage: des = DES()\n",
      "        sage: K64 = 0x133457799BBCDFF1\n",
      "        sage: P = 0x0123456789ABCDEF\n",
      "        sage: C = des.encrypt(P, K64); C.hex()\n",
      "        '85e813540f0ab405'\n",
      "    \n",
      "    You can also use 56 bit keys i.e. you can leave out the parity bits::\n",
      "    \n",
      "        sage: K56 = 0x12695BC9B7B7F8\n",
      "        sage: des = DES(keySize=56)\n",
      "        sage: des.encrypt(P, K56) == C\n",
      "        True\n",
      "\n"
     ]
    }
   ],
   "source": [
    "tekst = 'Scisle tajna informacja'\n",
    "haslo = '234w53tfdsfsr43'\n",
    "#szyfr = szyfruj(tekst, haslo)\n",
    "#odszyfrowany = deszyfruj(szyfr, haslo)\n",
    "\n",
    "help(des.encrypt)"
   ]
  },
  {
   "cell_type": "code",
   "execution_count": null,
   "id": "99a8b73c",
   "metadata": {},
   "outputs": [],
   "source": []
  }
 ],
 "metadata": {
  "kernelspec": {
   "display_name": "SageMath 10.2",
   "language": "sage",
   "name": "sagemath-10.2"
  },
  "language_info": {
   "codemirror_mode": {
    "name": "ipython",
    "version": 3
   },
   "file_extension": ".py",
   "mimetype": "text/x-python",
   "name": "python",
   "nbconvert_exporter": "python",
   "pygments_lexer": "ipython3",
   "version": "3.11.1"
  }
 },
 "nbformat": 4,
 "nbformat_minor": 5
}
