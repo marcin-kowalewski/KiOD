{
 "cells": [
  {
   "cell_type": "code",
   "execution_count": 4,
   "id": "9f7785b7",
   "metadata": {},
   "outputs": [
    {
     "name": "stdout",
     "output_type": "stream",
     "text": [
      "4807746616848964455\n"
     ]
    },
    {
     "data": {
      "text/plain": [
       "'42b88c13535e5b67'"
      ]
     },
     "execution_count": 4,
     "metadata": {},
     "output_type": "execute_result"
    }
   ],
   "source": [
    "from sage.crypto.block_cipher.des import DES\n",
    "des = DES()\n",
    "P = 0x7420656c73696353\n",
    "K = 0x7CA110454A1A6E57\n",
    "C = des.encrypt(plaintext=P, key=K); \n",
    "print (C)\n",
    "C.hex()"
   ]
  },
  {
   "cell_type": "code",
   "execution_count": 2,
   "id": "600bab00",
   "metadata": {},
   "outputs": [
    {
     "name": "stdout",
     "output_type": "stream",
     "text": [
      "['0x536369736c652074', '0x616a6e6120696e66', '0x6f726d61636a6100']\n"
     ]
    },
    {
     "ename": "NameError",
     "evalue": "name 'des' is not defined",
     "output_type": "error",
     "traceback": [
      "\u001b[0;31m---------------------------------------------------------------------------\u001b[0m",
      "\u001b[0;31mNameError\u001b[0m                                 Traceback (most recent call last)",
      "Cell \u001b[0;32mIn [2], line 94\u001b[0m\n\u001b[1;32m     92\u001b[0m clist \u001b[38;5;241m=\u001b[39m []\n\u001b[1;32m     93\u001b[0m \u001b[38;5;28;01mfor\u001b[39;00m p \u001b[38;5;129;01min\u001b[39;00m hlist:\n\u001b[0;32m---> 94\u001b[0m     clist\u001b[38;5;241m.\u001b[39mappend(\u001b[43mdes\u001b[49m\u001b[38;5;241m.\u001b[39mencrypt(plaintext\u001b[38;5;241m=\u001b[39m\u001b[38;5;28mint\u001b[39m(p,Integer(\u001b[38;5;241m16\u001b[39m)), key\u001b[38;5;241m=\u001b[39mK))\n\u001b[1;32m     96\u001b[0m \u001b[38;5;28mprint\u001b[39m(clist)\n\u001b[1;32m     98\u001b[0m plist \u001b[38;5;241m=\u001b[39m []\n",
      "\u001b[0;31mNameError\u001b[0m: name 'des' is not defined"
     ]
    }
   ],
   "source": [
    "def text_to_int_blocks(text):\n",
    "    # Dopełnienie tekstu, aby jego długość była wielokrotnością 8\n",
    "    while len(text) % 8 != 0:\n",
    "        text += '\\0'  # Dodanie znaku o wartości 0 w ASCII\n",
    "    \n",
    "    # Podział tekstu na bloki 8-znakowe\n",
    "    blocks = [text[i:i+8] for i in range(0, len(text), 8)]\n",
    "    \n",
    "    # Konwersja bloków na liczby całkowite\n",
    "    int_blocks = []\n",
    "    for block in blocks:\n",
    "        block_value = 0\n",
    "        for char in block:\n",
    "            block_value = block_value * 256 + ord(char)  # Przesunięcie wartości i dodanie nowej wartości ASCII\n",
    "        int_blocks.append(block_value)\n",
    "    \n",
    "    return int_blocks\n",
    "\n",
    "def int_blocks_to_text(int_blocks):\n",
    "    text = \"\"\n",
    "    for value in int_blocks:\n",
    "        block = \"\"\n",
    "        for _ in range(8):\n",
    "            char = chr(value % 256)  # Pobranie wartości ostatniego bajtu\n",
    "            block = char + block  # Dodajemy znak na początek bloku (odwracamy kolejność)\n",
    "            value //= 256  # Przygotowanie liczby do pobrania kolejnego bajtu\n",
    "        text += block\n",
    "    return text.rstrip('\\x00')  # Usunięcie znaków dopełnienia\n",
    "\n",
    "\n",
    "def text_to_hex_blocks(text):\n",
    "    # Dopełnienie tekstu, aby jego długość była wielokrotnością 8\n",
    "    while len(text) % 8 != 0:\n",
    "        text += '\\0'  # Dodanie znaku o wartości 0 w ASCII\n",
    "    \n",
    "    # Podział tekstu na bloki 8-znakowe\n",
    "    blocks = [text[i:i+8] for i in range(0, len(text), 8)]\n",
    "    \n",
    "    # Konwersja bloków na liczby szesnastkowe\n",
    "    hex_blocks = []\n",
    "    for block in blocks:\n",
    "        block_value = 0\n",
    "        for char in block:\n",
    "            block_value = block_value * 256 + ord(char)  # Przesunięcie wartości i dodanie nowej wartości ASCII\n",
    "        hex_blocks.append(hex(block_value))\n",
    "    \n",
    "    return hex_blocks\n",
    "\n",
    "def hex_blocks_to_text(hex_blocks):\n",
    "    text = \"\"\n",
    "    for value in hex_blocks:\n",
    "        block = \"\"\n",
    "        value = int(value)\n",
    "        for _ in range(8):\n",
    "            char = chr(value % 256)  # Pobranie wartości ostatniego bajtu\n",
    "            block = char + block  # Dodajemy znak na początek bloku (odwracamy kolejność)\n",
    "            value //= 256  # Przygotowanie liczby do pobrania kolejnego bajtu\n",
    "        text += block\n",
    "    return text.rstrip('\\x00')  # Usunięcie znaków dopełnienia\n",
    "\n",
    "\n",
    "def plaintext2hblocks(plaintext):\n",
    "    h = []\n",
    "    i = 0\n",
    "    w = 0\n",
    "    k = 0\n",
    "    for c in plaintext:\n",
    "        w += 256^(7-k) * ord(c)\n",
    "        i += 1\n",
    "        k += 1\n",
    "        if i % 8 == 0: \n",
    "            h.append(hex(w))\n",
    "            w = 0\n",
    "            k = 0\n",
    "            print(i)\n",
    "    return h\n",
    "\n",
    "def iblocks2plaintext(iblocks):\n",
    "    s = ''\n",
    "    for b in iblocks:\n",
    "        while b:\n",
    "            s = chr(b % 256) + s\n",
    "            b //= 256\n",
    "    return s\n",
    "    \n",
    "plaintext = \"Scisle tajna informacja\"\n",
    "#hlist = plaintext2hblocks(plaintext)\n",
    "hlist = text_to_hex_blocks(plaintext)\n",
    "print(hlist)\n",
    "\n",
    "K = 0x7CA110454A1A6E57\n",
    "clist = []\n",
    "for p in hlist:\n",
    "    clist.append(des.encrypt(plaintext=int(p,16), key=K))\n",
    "\n",
    "print(clist)\n",
    "\n",
    "plist = []\n",
    "for c in clist:\n",
    "    plist.append(des.decrypt(ciphertext=c, key=K))\n",
    "    \n",
    "print(plist)\n",
    "iblocks2plaintext(plist)"
   ]
  },
  {
   "cell_type": "code",
   "execution_count": 3,
   "id": "c11752c1",
   "metadata": {},
   "outputs": [],
   "source": [
    "tekst = 'Scisle tajna informacja'\n",
    "haslo = '234w53tfdsfsr43'\n",
    "#szyfr = szyfruj(tekst, haslo)\n",
    "#odszyfrowany = deszyfruj(szyfr, haslo)\n",
    "\n"
   ]
  },
  {
   "cell_type": "code",
   "execution_count": null,
   "id": "99a8b73c",
   "metadata": {},
   "outputs": [],
   "source": []
  }
 ],
 "metadata": {
  "kernelspec": {
   "display_name": "SageMath 10.2",
   "language": "sage",
   "name": "sagemath-10.2"
  },
  "language_info": {
   "codemirror_mode": {
    "name": "ipython",
    "version": 3
   },
   "file_extension": ".py",
   "mimetype": "text/x-python",
   "name": "python",
   "nbconvert_exporter": "python",
   "pygments_lexer": "ipython3",
   "version": "3.11.1"
  }
 },
 "nbformat": 4,
 "nbformat_minor": 5
}
